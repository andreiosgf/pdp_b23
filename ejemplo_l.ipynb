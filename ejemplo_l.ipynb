{
  "nbformat": 4,
  "nbformat_minor": 0,
  "metadata": {
    "colab": {
      "provenance": []
    },
    "kernelspec": {
      "name": "python3",
      "display_name": "Python 3"
    },
    "language_info": {
      "name": "python"
    }
  },
  "cells": [
    {
      "cell_type": "markdown",
      "source": [
        "**Expresiones lambda**"
      ],
      "metadata": {
        "id": "ZdgptQi-AB2g"
      }
    },
    {
      "cell_type": "code",
      "execution_count": null,
      "metadata": {
        "colab": {
          "base_uri": "https://localhost:8080/"
        },
        "id": "xzPtDisy_bpW",
        "outputId": "f9fbe8de-e2e1-4f5f-af82-136cfb2f2988"
      },
      "outputs": [
        {
          "output_type": "execute_result",
          "data": {
            "text/plain": [
              "<function __main__.<lambda>(num)>"
            ]
          },
          "metadata": {},
          "execution_count": 1
        }
      ],
      "source": [
        "lambda num: \"Par\" if num%2==0 else \"Impar\""
      ]
    },
    {
      "cell_type": "code",
      "source": [
        "_(20)"
      ],
      "metadata": {
        "colab": {
          "base_uri": "https://localhost:8080/",
          "height": 35
        },
        "id": "4hv2UBOYAlkN",
        "outputId": "d0bac2d1-073c-4188-bc2d-5eae21246656"
      },
      "execution_count": null,
      "outputs": [
        {
          "output_type": "execute_result",
          "data": {
            "text/plain": [
              "'Par'"
            ],
            "application/vnd.google.colaboratory.intrinsic+json": {
              "type": "string"
            }
          },
          "metadata": {},
          "execution_count": 2
        }
      ]
    },
    {
      "cell_type": "markdown",
      "source": [
        "**Ejemplo 2**"
      ],
      "metadata": {
        "id": "HQHEW5cwBbIR"
      }
    },
    {
      "cell_type": "code",
      "source": [
        "l=['1','3','-2','0','7']"
      ],
      "metadata": {
        "id": "dFvpQlvFA4TS"
      },
      "execution_count": null,
      "outputs": []
    },
    {
      "cell_type": "code",
      "source": [
        "print('Ordenamiento ',sorted(l,key=lambda x:int(x)))"
      ],
      "metadata": {
        "colab": {
          "base_uri": "https://localhost:8080/"
        },
        "id": "KK8z1VwoBKXw",
        "outputId": "f78452b1-f416-4311-919d-bcd10e254618"
      },
      "execution_count": null,
      "outputs": [
        {
          "output_type": "stream",
          "name": "stdout",
          "text": [
            "Ordenamiento  ['-2', '0', '1', '3', '7']\n"
          ]
        }
      ]
    },
    {
      "cell_type": "markdown",
      "source": [
        "**Ejemplo 3**"
      ],
      "metadata": {
        "id": "DC7c4SydC-3e"
      }
    },
    {
      "cell_type": "code",
      "source": [
        "l2=list(filter(lambda x: not(int(x)%2==0 and int(x)>0),l))"
      ],
      "metadata": {
        "id": "rmRIYP-ACgEq"
      },
      "execution_count": null,
      "outputs": []
    },
    {
      "cell_type": "code",
      "source": [
        "print(l2)"
      ],
      "metadata": {
        "colab": {
          "base_uri": "https://localhost:8080/"
        },
        "id": "703atPTFC4ao",
        "outputId": "d362d4a8-b376-4d0f-917d-198724669bb7"
      },
      "execution_count": null,
      "outputs": [
        {
          "output_type": "stream",
          "name": "stdout",
          "text": [
            "['1', '3', '-2', '0', '7']\n"
          ]
        }
      ]
    },
    {
      "cell_type": "code",
      "source": [
        "l3=list(map(lambda x:str(int(x)+1),l))"
      ],
      "metadata": {
        "id": "7yYXPlKSEp0Y"
      },
      "execution_count": null,
      "outputs": []
    },
    {
      "cell_type": "code",
      "source": [
        "print(l3)"
      ],
      "metadata": {
        "colab": {
          "base_uri": "https://localhost:8080/"
        },
        "id": "C3aRHSd_FcPP",
        "outputId": "0f99f3c7-0de3-47b0-b313-088c945ded01"
      },
      "execution_count": null,
      "outputs": [
        {
          "output_type": "stream",
          "name": "stdout",
          "text": [
            "['2', '4', '-1', '1', '8']\n"
          ]
        }
      ]
    }
  ]
}